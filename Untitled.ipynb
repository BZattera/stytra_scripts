{
 "cells": [
  {
   "cell_type": "code",
   "execution_count": 1,
   "metadata": {},
   "outputs": [],
   "source": [
    "import cv2\n",
    "import os\n",
    "import numpy as np\n",
    "import deepdish as dd\n",
    "from matplotlib import pyplot as plt\n",
    "import seaborn as sns\n",
    "from cv2 import KeyPoint_convert\n",
    "from utilities_eyetracker import *"
   ]
  },
  {
   "cell_type": "code",
   "execution_count": 2,
   "metadata": {},
   "outputs": [],
   "source": [
    "video = dd.io.load(r\"C:\\Users\\Benedetta\\Documents\\Python_code\\stytra_scripts\\190806_f1video.hdf5\")"
   ]
  },
  {
   "cell_type": "code",
   "execution_count": 3,
   "metadata": {},
   "outputs": [],
   "source": [
    "frame = video[19,:,:]"
   ]
  },
  {
   "cell_type": "code",
   "execution_count": 4,
   "metadata": {},
   "outputs": [],
   "source": [
    "# cascade_dir = r\"C:\\Users\\Benedetta\\Documents\\Python_code\\stytra_scripts\"\n",
    "face_cascade = cv2.CascadeClassifier(\"haarcascade_frontalface_default.xml\")\n",
    "eye_cascade = cv2.CascadeClassifier(\"haarcascade_eye.xml\")\n",
    "\n",
    "# Set up the detector with default parameters.\n",
    "lower_Area = 200\n",
    "higher_Area = 1500\n",
    "# Set up the detector with default parameters.\n",
    "params = cv2.SimpleBlobDetector_Params()\n",
    "params.filterByCircularity = 1\n",
    "params.minCircularity = 0.5\n",
    "params.maxCircularity = 1\n",
    "params.filterByInertia = False\n",
    "params.filterByConvexity = False\n",
    "params.filterByArea = True\n",
    "params.minArea = lower_Area\n",
    "params.maxArea = higher_Area\n",
    "detector = cv2.SimpleBlobDetector_create(params)"
   ]
  },
  {
   "cell_type": "code",
   "execution_count": 5,
   "metadata": {},
   "outputs": [],
   "source": [
    "def nothing(x):\n",
    "    pass"
   ]
  },
  {
   "cell_type": "code",
   "execution_count": 6,
   "metadata": {},
   "outputs": [
    {
     "name": "stdout",
     "output_type": "stream",
     "text": [
      "40.6 ns ± 0.233 ns per loop (mean ± std. dev. of 7 runs, 10000000 loops each)\n"
     ]
    }
   ],
   "source": [
    "%%timeit\n",
    "def main():\n",
    "    face_coord, face_frame = detect_faces(frame, face_cascade)\n",
    "    # saving coords of the face\n",
    "    starting_x = 0\n",
    "    starting_y = 0\n",
    "    \n",
    "\n",
    "\n",
    "    face_x = starting_x + face_coord[0,0]\n",
    "    face_y = starting_y + face_coord[0,1]\n",
    "\n",
    "    \n",
    "\n",
    "    if face_frame is not None:\n",
    "        \n",
    "        eyes_coord, left_eye, right_eye = detect_eyes(face_frame, eye_cascade)\n",
    "        \n",
    "        eyes = np.array([left_eye, right_eye])\n",
    "\n",
    "        eye_x = [len(eyes)]\n",
    "        eye_y = [len(eyes)]\n",
    "        final_x = [len(eyes)]\n",
    "        final_y = [len(eyes)]\n",
    "        pt = [len(eyes)]\n",
    "        eye_track = [len(eyes)]\n",
    "\n",
    "\n",
    "        for current_eye, eye in enumerate(eyes):\n",
    "            \n",
    "            eye_x = face_x + eyes_coord[current_eye,0]\n",
    "            eye_y = face_y + eyes_coord[current_eye,1]\n",
    "\n",
    "\n",
    "\n",
    "            if eye is not None:\n",
    "                threshold = 42\n",
    "                #print(\"These are my eye coord: \", eye_coord)\n",
    "                #cut_x, cut_y, eye = cut_eyebrows(eye)\n",
    "\n",
    "                new_eye = cut_eyebrows(eye)\n",
    "\n",
    "                \n",
    "                to_remove_y = eyes_coord[current_eye,3] - new_eye.shape[0]\n",
    "\n",
    "                # adding the dimensions os the 2D transformed eye with the eyebrow cutted\n",
    "                eye_cut_x = eye_x\n",
    "                eye_cut_y = eye_y + to_remove_y\n",
    "\n",
    "                \n",
    "                keypoints = blob_process(new_eye, threshold, 5, detector)\n",
    "                \n",
    "\n",
    "                pt = cv2.KeyPoint_convert(keypoints)\n",
    "                \n",
    "                kpt_x = int(pt[0,0])\n",
    "                kpt_y = int(pt[0,1])\n",
    "\n",
    "                \n",
    "                final_x = eye_cut_x + kpt_x\n",
    "                final_y = eye_cut_y + kpt_y\n",
    "\n",
    "                img = cv2.circle(frame, (final_x, final_y), 5, (255, 0, 0), 5)\n",
    "                \n",
    "\n",
    "    cv2.imshow('image',img)\n",
    "\n",
    "\n",
    "    cv2.waitKey()"
   ]
  }
 ],
 "metadata": {
  "kernelspec": {
   "display_name": "Python 3",
   "language": "python",
   "name": "python3"
  },
  "language_info": {
   "codemirror_mode": {
    "name": "ipython",
    "version": 3
   },
   "file_extension": ".py",
   "mimetype": "text/x-python",
   "name": "python",
   "nbconvert_exporter": "python",
   "pygments_lexer": "ipython3",
   "version": "3.7.3"
  }
 },
 "nbformat": 4,
 "nbformat_minor": 2
}
